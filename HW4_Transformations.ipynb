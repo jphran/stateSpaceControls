{
 "cells": [
  {
   "cell_type": "code",
   "execution_count": 8,
   "metadata": {},
   "outputs": [
    {
     "name": "stdout",
     "output_type": "stream",
     "text": [
      "[[-1.  -0.j    0.  -0.j    0.  -0.j  ]\n",
      " [ 0.25+0.25j  0.  +0.5j   0.25+0.25j]\n",
      " [ 0.25-0.25j  0.  -0.5j   0.25-0.25j]]\n"
     ]
    }
   ],
   "source": [
    "import numpy as np\n",
    "\n",
    "J = np.array([[-2,0,0],[0,-1+1j,0],[0,0,-1-1j]])\n",
    "Q = np.array([[-1,0,0],[0,-1-1j,-1+1j],[1,2,2]])\n",
    "Qinv = np.linalg.inv(Q)\n",
    "\n",
    "Abar = Qinv.dot(J)\n",
    "Abar = Abar.dot(Q)\n",
    "# print(Q)\n",
    "print(Qinv)\n",
    "# print(Abar)"
   ]
  },
  {
   "cell_type": "code",
   "execution_count": null,
   "metadata": {},
   "outputs": [],
   "source": []
  }
 ],
 "metadata": {
  "kernelspec": {
   "display_name": "Python 3",
   "language": "python",
   "name": "python3"
  },
  "language_info": {
   "codemirror_mode": {
    "name": "ipython",
    "version": 3
   },
   "file_extension": ".py",
   "mimetype": "text/x-python",
   "name": "python",
   "nbconvert_exporter": "python",
   "pygments_lexer": "ipython3",
   "version": "3.7.4"
  }
 },
 "nbformat": 4,
 "nbformat_minor": 2
}
