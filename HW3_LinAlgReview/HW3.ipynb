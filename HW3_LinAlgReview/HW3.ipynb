{
 "cells": [
  {
   "cell_type": "code",
   "execution_count": 4,
   "metadata": {},
   "outputs": [
    {
     "name": "stdout",
     "output_type": "stream",
     "text": [
      "A1:  Matrix([[1, 0, 0], [0, 2, 0], [0, 0, 3]])\n",
      "A2:  Matrix([[-1, 0, 0], [0, -1 - I, 0], [0, 0, -1 + I]])\n",
      "A3:  Matrix([[1, 0, 0], [0, 1, 0], [0, 0, 2]])\n",
      "A4:  Matrix([[0, 1, 0], [0, 0, 1], [0, 0, 0]])\n"
     ]
    }
   ],
   "source": [
    "import numpy as np\n",
    "from sympy import *\n",
    "\n",
    "#prob 3.13\n",
    "A1 = Matrix([[1,4,10],[0,2,0],[0,0,3]])\n",
    "P1, J1 = A1.jordan_form()\n",
    "print('A1: ', J1)\n",
    "\n",
    "A2 = Matrix([[0,1,0],[0,0,1],[-2,-4,-3]])\n",
    "P2, J2 = A2.jordan_form()\n",
    "print('A2: ', J2)\n",
    "\n",
    "A3 = Matrix([[1,0,-1], [0,1,0],[0,0,2]])\n",
    "P3, J3 = A3.jordan_form()\n",
    "print('A3: ', J3)\n",
    "\n",
    "A4 = Matrix([[0,4,3],[0,20,16],[0,-25,-20]])\n",
    "P4, J4 = A4.jordan_form()\n",
    "print('A4: ', J4)"
   ]
  },
  {
   "cell_type": "code",
   "execution_count": 5,
   "metadata": {},
   "outputs": [
    {
     "name": "stdout",
     "output_type": "stream",
     "text": [
      "Matrix([[a1 + l, a2, a3, a4], [-1, l, 0, 0], [0, -1, l, 0], [0, 0, -1, l]])\n",
      "a1*l**3 + a2*l**2 + a3*l + a4 + l**4\n"
     ]
    }
   ],
   "source": [
    "# prob 3.14\n",
    "a1 = symp.Symbol('a1')\n",
    "a2 = symp.Symbol('a2')\n",
    "a3 = symp.Symbol('a3')\n",
    "a4 = symp.Symbol('a4')\n",
    "l = symp.Symbol('l')\n",
    "A = Matrix([[l+a1, a2, a3, a4], [-1, l, 0, 0], [0, -1, l, 0], [0, 0, -1, l]])\n",
    "print(A)\n",
    "print(A.det())"
   ]
  },
  {
   "cell_type": "code",
   "execution_count": 8,
   "metadata": {},
   "outputs": [
    {
     "name": "stdout",
     "output_type": "stream",
     "text": [
      "[[1 1 1]\n",
      " [0 0 1]\n",
      " [0 0 1]]\n",
      "A21 pow:  [[  1   1 102]\n",
      " [  0   0   1]\n",
      " [  0   0   1]]\n"
     ]
    }
   ],
   "source": [
    "#prob 3.21\n",
    "A21 = np.array([[1,1,0],[0,0,1],[0,0,1]])\n",
    "print(np.linalg.matrix_power(A21, 2))\n",
    "print('A21 pow: ', np.linalg.matrix_power(A21,103))"
   ]
  },
  {
   "cell_type": "code",
   "execution_count": null,
   "metadata": {},
   "outputs": [],
   "source": []
  }
 ],
 "metadata": {
  "kernelspec": {
   "display_name": "Python 3",
   "language": "python",
   "name": "python3"
  },
  "language_info": {
   "codemirror_mode": {
    "name": "ipython",
    "version": 3
   },
   "file_extension": ".py",
   "mimetype": "text/x-python",
   "name": "python",
   "nbconvert_exporter": "python",
   "pygments_lexer": "ipython3",
   "version": "3.7.4"
  }
 },
 "nbformat": 4,
 "nbformat_minor": 2
}
